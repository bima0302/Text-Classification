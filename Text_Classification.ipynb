{
  "nbformat": 4,
  "nbformat_minor": 0,
  "metadata": {
    "colab": {
      "provenance": [],
      "mount_file_id": "115lWNuOK4V6uV-k6_8SHzbXUirYdHW-1",
      "authorship_tag": "ABX9TyOHOi75hoo9jwgqRgHxpffG",
      "include_colab_link": true
    },
    "kernelspec": {
      "name": "python3",
      "display_name": "Python 3"
    },
    "language_info": {
      "name": "python"
    },
    "accelerator": "GPU",
    "gpuClass": "standard"
  },
  "cells": [
    {
      "cell_type": "markdown",
      "metadata": {
        "id": "view-in-github",
        "colab_type": "text"
      },
      "source": [
        "<a href=\"https://colab.research.google.com/github/bzizmza/Text-Classification/blob/main/Text_Classification.ipynb\" target=\"_parent\"><img src=\"https://colab.research.google.com/assets/colab-badge.svg\" alt=\"Open In Colab\"/></a>"
      ]
    },
    {
      "cell_type": "markdown",
      "source": [
        "# Text Classification Project\n",
        "## by Abimanyu Sri Setyo\n",
        "\n",
        "**Project Criteria**\n",
        "* The dataset to be used is free, but has a minimum of 1000 samples.\n",
        "* Must use LSTM in model architecture.\n",
        "* Must use sequential model.\n",
        "* Validation set is 20% of the total dataset.\n",
        "* Must use Embedding.\n",
        "* Must use tokenizer function.\n",
        "* The accuracy of the model is at least 75% on the train set and validation set."
      ],
      "metadata": {
        "id": "ENUV-K8-bEfP"
      }
    },
    {
      "cell_type": "markdown",
      "source": [
        "## Import Dataset\n",
        "Using data from [Kaggle](https://www.kaggle.com/atulanandjha/imdb-50k-movie-reviews-test-your-bert) and put it into my Google Drive to make it easier to process."
      ],
      "metadata": {
        "id": "Ovw0lk3IbMBf"
      }
    },
    {
      "cell_type": "code",
      "execution_count": 1,
      "metadata": {
        "colab": {
          "base_uri": "https://localhost:8080/"
        },
        "id": "uoZgL7GM6hyN",
        "outputId": "feb7dfe0-4e8b-40f4-8d1f-26327b8c0528"
      },
      "outputs": [
        {
          "output_type": "stream",
          "name": "stdout",
          "text": [
            "Drive already mounted at /content/drive/; to attempt to forcibly remount, call drive.mount(\"/content/drive/\", force_remount=True).\n"
          ]
        }
      ],
      "source": [
        "from google.colab import drive\n",
        "drive.mount('/content/drive/')"
      ]
    },
    {
      "cell_type": "code",
      "source": [
        "import pandas as pd\n",
        "df = pd.read_csv('/content/drive/MyDrive/Dataset/Movie Reviews/train.csv')"
      ],
      "metadata": {
        "id": "EMSZF9VEcHXk"
      },
      "execution_count": 2,
      "outputs": []
    },
    {
      "cell_type": "code",
      "source": [
        "df.head()"
      ],
      "metadata": {
        "colab": {
          "base_uri": "https://localhost:8080/",
          "height": 206
        },
        "id": "Yu-r_wifcSNE",
        "outputId": "e9648338-82cd-4e19-867c-21bc056eccba"
      },
      "execution_count": 3,
      "outputs": [
        {
          "output_type": "execute_result",
          "data": {
            "text/plain": [
              "                                                text sentiment\n",
              "0  Now, I won't deny that when I purchased this o...       neg\n",
              "1  The saddest thing about this \"tribute\" is that...       neg\n",
              "2  Last night I decided to watch the prequel or s...       neg\n",
              "3  I have to admit that i liked the first half of...       neg\n",
              "4  I was not impressed about this film especially...       neg"
            ],
            "text/html": [
              "\n",
              "  <div id=\"df-feb0045e-fa43-453c-be1d-d4a144a1edeb\">\n",
              "    <div class=\"colab-df-container\">\n",
              "      <div>\n",
              "<style scoped>\n",
              "    .dataframe tbody tr th:only-of-type {\n",
              "        vertical-align: middle;\n",
              "    }\n",
              "\n",
              "    .dataframe tbody tr th {\n",
              "        vertical-align: top;\n",
              "    }\n",
              "\n",
              "    .dataframe thead th {\n",
              "        text-align: right;\n",
              "    }\n",
              "</style>\n",
              "<table border=\"1\" class=\"dataframe\">\n",
              "  <thead>\n",
              "    <tr style=\"text-align: right;\">\n",
              "      <th></th>\n",
              "      <th>text</th>\n",
              "      <th>sentiment</th>\n",
              "    </tr>\n",
              "  </thead>\n",
              "  <tbody>\n",
              "    <tr>\n",
              "      <th>0</th>\n",
              "      <td>Now, I won't deny that when I purchased this o...</td>\n",
              "      <td>neg</td>\n",
              "    </tr>\n",
              "    <tr>\n",
              "      <th>1</th>\n",
              "      <td>The saddest thing about this \"tribute\" is that...</td>\n",
              "      <td>neg</td>\n",
              "    </tr>\n",
              "    <tr>\n",
              "      <th>2</th>\n",
              "      <td>Last night I decided to watch the prequel or s...</td>\n",
              "      <td>neg</td>\n",
              "    </tr>\n",
              "    <tr>\n",
              "      <th>3</th>\n",
              "      <td>I have to admit that i liked the first half of...</td>\n",
              "      <td>neg</td>\n",
              "    </tr>\n",
              "    <tr>\n",
              "      <th>4</th>\n",
              "      <td>I was not impressed about this film especially...</td>\n",
              "      <td>neg</td>\n",
              "    </tr>\n",
              "  </tbody>\n",
              "</table>\n",
              "</div>\n",
              "      <button class=\"colab-df-convert\" onclick=\"convertToInteractive('df-feb0045e-fa43-453c-be1d-d4a144a1edeb')\"\n",
              "              title=\"Convert this dataframe to an interactive table.\"\n",
              "              style=\"display:none;\">\n",
              "        \n",
              "  <svg xmlns=\"http://www.w3.org/2000/svg\" height=\"24px\"viewBox=\"0 0 24 24\"\n",
              "       width=\"24px\">\n",
              "    <path d=\"M0 0h24v24H0V0z\" fill=\"none\"/>\n",
              "    <path d=\"M18.56 5.44l.94 2.06.94-2.06 2.06-.94-2.06-.94-.94-2.06-.94 2.06-2.06.94zm-11 1L8.5 8.5l.94-2.06 2.06-.94-2.06-.94L8.5 2.5l-.94 2.06-2.06.94zm10 10l.94 2.06.94-2.06 2.06-.94-2.06-.94-.94-2.06-.94 2.06-2.06.94z\"/><path d=\"M17.41 7.96l-1.37-1.37c-.4-.4-.92-.59-1.43-.59-.52 0-1.04.2-1.43.59L10.3 9.45l-7.72 7.72c-.78.78-.78 2.05 0 2.83L4 21.41c.39.39.9.59 1.41.59.51 0 1.02-.2 1.41-.59l7.78-7.78 2.81-2.81c.8-.78.8-2.07 0-2.86zM5.41 20L4 18.59l7.72-7.72 1.47 1.35L5.41 20z\"/>\n",
              "  </svg>\n",
              "      </button>\n",
              "      \n",
              "  <style>\n",
              "    .colab-df-container {\n",
              "      display:flex;\n",
              "      flex-wrap:wrap;\n",
              "      gap: 12px;\n",
              "    }\n",
              "\n",
              "    .colab-df-convert {\n",
              "      background-color: #E8F0FE;\n",
              "      border: none;\n",
              "      border-radius: 50%;\n",
              "      cursor: pointer;\n",
              "      display: none;\n",
              "      fill: #1967D2;\n",
              "      height: 32px;\n",
              "      padding: 0 0 0 0;\n",
              "      width: 32px;\n",
              "    }\n",
              "\n",
              "    .colab-df-convert:hover {\n",
              "      background-color: #E2EBFA;\n",
              "      box-shadow: 0px 1px 2px rgba(60, 64, 67, 0.3), 0px 1px 3px 1px rgba(60, 64, 67, 0.15);\n",
              "      fill: #174EA6;\n",
              "    }\n",
              "\n",
              "    [theme=dark] .colab-df-convert {\n",
              "      background-color: #3B4455;\n",
              "      fill: #D2E3FC;\n",
              "    }\n",
              "\n",
              "    [theme=dark] .colab-df-convert:hover {\n",
              "      background-color: #434B5C;\n",
              "      box-shadow: 0px 1px 3px 1px rgba(0, 0, 0, 0.15);\n",
              "      filter: drop-shadow(0px 1px 2px rgba(0, 0, 0, 0.3));\n",
              "      fill: #FFFFFF;\n",
              "    }\n",
              "  </style>\n",
              "\n",
              "      <script>\n",
              "        const buttonEl =\n",
              "          document.querySelector('#df-feb0045e-fa43-453c-be1d-d4a144a1edeb button.colab-df-convert');\n",
              "        buttonEl.style.display =\n",
              "          google.colab.kernel.accessAllowed ? 'block' : 'none';\n",
              "\n",
              "        async function convertToInteractive(key) {\n",
              "          const element = document.querySelector('#df-feb0045e-fa43-453c-be1d-d4a144a1edeb');\n",
              "          const dataTable =\n",
              "            await google.colab.kernel.invokeFunction('convertToInteractive',\n",
              "                                                     [key], {});\n",
              "          if (!dataTable) return;\n",
              "\n",
              "          const docLinkHtml = 'Like what you see? Visit the ' +\n",
              "            '<a target=\"_blank\" href=https://colab.research.google.com/notebooks/data_table.ipynb>data table notebook</a>'\n",
              "            + ' to learn more about interactive tables.';\n",
              "          element.innerHTML = '';\n",
              "          dataTable['output_type'] = 'display_data';\n",
              "          await google.colab.output.renderOutput(dataTable, element);\n",
              "          const docLink = document.createElement('div');\n",
              "          docLink.innerHTML = docLinkHtml;\n",
              "          element.appendChild(docLink);\n",
              "        }\n",
              "      </script>\n",
              "    </div>\n",
              "  </div>\n",
              "  "
            ]
          },
          "metadata": {},
          "execution_count": 3
        }
      ]
    },
    {
      "cell_type": "markdown",
      "source": [
        "## Encoding\n",
        "Change the shape of the data in the sentiment column into a number form for labeling each data."
      ],
      "metadata": {
        "id": "U5nN63E7c8PK"
      }
    },
    {
      "cell_type": "code",
      "source": [
        "cat = pd.get_dummies(df.sentiment)\n",
        "df = pd.concat([df, cat], axis=1)\n",
        "df = df.drop(columns='sentiment')"
      ],
      "metadata": {
        "id": "FjfkuoDcdDyz"
      },
      "execution_count": 4,
      "outputs": []
    },
    {
      "cell_type": "code",
      "source": [
        "df.head()"
      ],
      "metadata": {
        "colab": {
          "base_uri": "https://localhost:8080/",
          "height": 206
        },
        "id": "nZxyfwI5dJAy",
        "outputId": "d75a14e1-71b9-4418-c2dc-710a101a848b"
      },
      "execution_count": 5,
      "outputs": [
        {
          "output_type": "execute_result",
          "data": {
            "text/plain": [
              "                                                text  neg  pos\n",
              "0  Now, I won't deny that when I purchased this o...    1    0\n",
              "1  The saddest thing about this \"tribute\" is that...    1    0\n",
              "2  Last night I decided to watch the prequel or s...    1    0\n",
              "3  I have to admit that i liked the first half of...    1    0\n",
              "4  I was not impressed about this film especially...    1    0"
            ],
            "text/html": [
              "\n",
              "  <div id=\"df-b8a5a0d9-7e92-4386-91b4-a687fdbb3386\">\n",
              "    <div class=\"colab-df-container\">\n",
              "      <div>\n",
              "<style scoped>\n",
              "    .dataframe tbody tr th:only-of-type {\n",
              "        vertical-align: middle;\n",
              "    }\n",
              "\n",
              "    .dataframe tbody tr th {\n",
              "        vertical-align: top;\n",
              "    }\n",
              "\n",
              "    .dataframe thead th {\n",
              "        text-align: right;\n",
              "    }\n",
              "</style>\n",
              "<table border=\"1\" class=\"dataframe\">\n",
              "  <thead>\n",
              "    <tr style=\"text-align: right;\">\n",
              "      <th></th>\n",
              "      <th>text</th>\n",
              "      <th>neg</th>\n",
              "      <th>pos</th>\n",
              "    </tr>\n",
              "  </thead>\n",
              "  <tbody>\n",
              "    <tr>\n",
              "      <th>0</th>\n",
              "      <td>Now, I won't deny that when I purchased this o...</td>\n",
              "      <td>1</td>\n",
              "      <td>0</td>\n",
              "    </tr>\n",
              "    <tr>\n",
              "      <th>1</th>\n",
              "      <td>The saddest thing about this \"tribute\" is that...</td>\n",
              "      <td>1</td>\n",
              "      <td>0</td>\n",
              "    </tr>\n",
              "    <tr>\n",
              "      <th>2</th>\n",
              "      <td>Last night I decided to watch the prequel or s...</td>\n",
              "      <td>1</td>\n",
              "      <td>0</td>\n",
              "    </tr>\n",
              "    <tr>\n",
              "      <th>3</th>\n",
              "      <td>I have to admit that i liked the first half of...</td>\n",
              "      <td>1</td>\n",
              "      <td>0</td>\n",
              "    </tr>\n",
              "    <tr>\n",
              "      <th>4</th>\n",
              "      <td>I was not impressed about this film especially...</td>\n",
              "      <td>1</td>\n",
              "      <td>0</td>\n",
              "    </tr>\n",
              "  </tbody>\n",
              "</table>\n",
              "</div>\n",
              "      <button class=\"colab-df-convert\" onclick=\"convertToInteractive('df-b8a5a0d9-7e92-4386-91b4-a687fdbb3386')\"\n",
              "              title=\"Convert this dataframe to an interactive table.\"\n",
              "              style=\"display:none;\">\n",
              "        \n",
              "  <svg xmlns=\"http://www.w3.org/2000/svg\" height=\"24px\"viewBox=\"0 0 24 24\"\n",
              "       width=\"24px\">\n",
              "    <path d=\"M0 0h24v24H0V0z\" fill=\"none\"/>\n",
              "    <path d=\"M18.56 5.44l.94 2.06.94-2.06 2.06-.94-2.06-.94-.94-2.06-.94 2.06-2.06.94zm-11 1L8.5 8.5l.94-2.06 2.06-.94-2.06-.94L8.5 2.5l-.94 2.06-2.06.94zm10 10l.94 2.06.94-2.06 2.06-.94-2.06-.94-.94-2.06-.94 2.06-2.06.94z\"/><path d=\"M17.41 7.96l-1.37-1.37c-.4-.4-.92-.59-1.43-.59-.52 0-1.04.2-1.43.59L10.3 9.45l-7.72 7.72c-.78.78-.78 2.05 0 2.83L4 21.41c.39.39.9.59 1.41.59.51 0 1.02-.2 1.41-.59l7.78-7.78 2.81-2.81c.8-.78.8-2.07 0-2.86zM5.41 20L4 18.59l7.72-7.72 1.47 1.35L5.41 20z\"/>\n",
              "  </svg>\n",
              "      </button>\n",
              "      \n",
              "  <style>\n",
              "    .colab-df-container {\n",
              "      display:flex;\n",
              "      flex-wrap:wrap;\n",
              "      gap: 12px;\n",
              "    }\n",
              "\n",
              "    .colab-df-convert {\n",
              "      background-color: #E8F0FE;\n",
              "      border: none;\n",
              "      border-radius: 50%;\n",
              "      cursor: pointer;\n",
              "      display: none;\n",
              "      fill: #1967D2;\n",
              "      height: 32px;\n",
              "      padding: 0 0 0 0;\n",
              "      width: 32px;\n",
              "    }\n",
              "\n",
              "    .colab-df-convert:hover {\n",
              "      background-color: #E2EBFA;\n",
              "      box-shadow: 0px 1px 2px rgba(60, 64, 67, 0.3), 0px 1px 3px 1px rgba(60, 64, 67, 0.15);\n",
              "      fill: #174EA6;\n",
              "    }\n",
              "\n",
              "    [theme=dark] .colab-df-convert {\n",
              "      background-color: #3B4455;\n",
              "      fill: #D2E3FC;\n",
              "    }\n",
              "\n",
              "    [theme=dark] .colab-df-convert:hover {\n",
              "      background-color: #434B5C;\n",
              "      box-shadow: 0px 1px 3px 1px rgba(0, 0, 0, 0.15);\n",
              "      filter: drop-shadow(0px 1px 2px rgba(0, 0, 0, 0.3));\n",
              "      fill: #FFFFFF;\n",
              "    }\n",
              "  </style>\n",
              "\n",
              "      <script>\n",
              "        const buttonEl =\n",
              "          document.querySelector('#df-b8a5a0d9-7e92-4386-91b4-a687fdbb3386 button.colab-df-convert');\n",
              "        buttonEl.style.display =\n",
              "          google.colab.kernel.accessAllowed ? 'block' : 'none';\n",
              "\n",
              "        async function convertToInteractive(key) {\n",
              "          const element = document.querySelector('#df-b8a5a0d9-7e92-4386-91b4-a687fdbb3386');\n",
              "          const dataTable =\n",
              "            await google.colab.kernel.invokeFunction('convertToInteractive',\n",
              "                                                     [key], {});\n",
              "          if (!dataTable) return;\n",
              "\n",
              "          const docLinkHtml = 'Like what you see? Visit the ' +\n",
              "            '<a target=\"_blank\" href=https://colab.research.google.com/notebooks/data_table.ipynb>data table notebook</a>'\n",
              "            + ' to learn more about interactive tables.';\n",
              "          element.innerHTML = '';\n",
              "          dataTable['output_type'] = 'display_data';\n",
              "          await google.colab.output.renderOutput(dataTable, element);\n",
              "          const docLink = document.createElement('div');\n",
              "          docLink.innerHTML = docLinkHtml;\n",
              "          element.appendChild(docLink);\n",
              "        }\n",
              "      </script>\n",
              "    </div>\n",
              "  </div>\n",
              "  "
            ]
          },
          "metadata": {},
          "execution_count": 5
        }
      ]
    },
    {
      "cell_type": "markdown",
      "source": [
        "## Split Dataframe\n",
        "For the model to process, I need to convert the values from the dataframe into the numpy array data type using the values attribute."
      ],
      "metadata": {
        "id": "rCtTglfydNnp"
      }
    },
    {
      "cell_type": "code",
      "source": [
        "review = df['text'].values\n",
        "label = df[['neg', 'pos']].values"
      ],
      "metadata": {
        "id": "sFWCy8QodbLK"
      },
      "execution_count": 6,
      "outputs": []
    },
    {
      "cell_type": "code",
      "source": [
        "review"
      ],
      "metadata": {
        "colab": {
          "base_uri": "https://localhost:8080/"
        },
        "id": "04YTryA-dehn",
        "outputId": "bfd20b7b-9b68-41a3-c2c8-9016d678cb09"
      },
      "execution_count": 7,
      "outputs": [
        {
          "output_type": "execute_result",
          "data": {
            "text/plain": [
              "array([\"Now, I won't deny that when I purchased this off eBay, I had high expectations. This was an incredible out-of-print work from the master of comedy that I so enjoy. However, I was soon to be disappointed. Apologies to those who enjoyed it, but I just found the Compleat Al to be very difficult to watch. I got a few smiles, sure, but the majority of the funny came from the music videos (which I've got on DVD) and the rest was basically filler. You could tell that this was not Al's greatest video achievement (that honor goes to UHF). Honestly, I doubt if this will ever make the jump to DVD, so if you're an ultra-hardcore Al fan and just HAVE to own everything, buy the tape off eBay. Just don't pay too much for it.\",\n",
              "       'The saddest thing about this \"tribute\" is that almost all the singers (including the otherwise incredibly talented Nick Cave) seem to have missed the whole point where Cohen\\'s intensity lies: by delivering his lines in an almost tuneless poise, Cohen transmits the full extent of his poetry, his irony, his all-round humanity, laughter and tears in one.<br /><br />To see some of these singer upstarts make convoluted suffering faces, launch their pathetic squeals in the patent effort to scream \"I\\'m a singer!,\" is a true pain. It\\'s the same feeling many of you probably had listening in to some horrendous operatic versions of simple songs such as Lennon\\'s \"Imagine.\" Nothing, simply nothing gets close to the simplicity and directness of the original. If there is a form of art that doesn\\'t need embellishments, it\\'s Cohen\\'s art. Embellishments cast it in the street looking like the tasteless make-up of sex for sale.<br /><br />In this Cohen\\'s tribute I found myself suffering and suffering through pitiful tributes and awful reinterpretations, all of them entirely lacking the original irony of the master and, if truth be told, several of these singers sounded as if they had been recruited at some asylum talent show. It\\'s Cohen doing a tribute to them by letting them sing his material, really, not the other way around: they may have been friends, or his daughter\\'s, he could have become very tender-hearted and in the mood for a gift. Too bad it didn\\'t stay in the family.<br /><br />Fortunately, but only at the very end, Cohen himself performed his majestic \"Tower of Song,\" but even that flower was spoiled by the totally incongruous background of the U2, all of them carrying the expression that bored kids have when they visit their poor grandpa at the nursing home.<br /><br />A sad show, really, and sadder if you truly love Cohen as I do.',\n",
              "       'Last night I decided to watch the prequel or shall I say the so called prequel to Carlito\\'s Way - \"Carlito\\'s Way: Rise to Power (2005)\" which went straight to DVD...no wonder .....it completely ...and I mean completely S%&KS !!! waist of time watching it and I think it would be a pure waist of time writing about it.... I don\\'t understand how De Palma agreed on producing this sh#t-fest of a movie....except for only one fact that I tip my hat to... Jay Hernandez who plays the young Brigante.... reminded me how De Niro got into the shoes of Brando to portray the young Don Corleone in Godfather II ...but the difference De Niro was amazing and even got an Oscar for it !!! Jay Hernandez well he has guts for trying to be a young Pacino.... too bad for him I don\\'t think he will be playing in film anymore and by the way after I watched this sh#$%ty movie, I sat down and watched the original Carlitos way to get the bad taste out of my mouth.',\n",
              "       ...,\n",
              "       'first this deserves about 5 stars due to acting (some which would give me a better subjective opinion and NOT an objective one as it should by giving this one, WELL DESERVED, star) but then i know that those facts are used for the actor(S) NAMES to increase the rating of something like this...<br /><br />i do have a problem with such productions; yet another attempt (just like \"untraceable\") of a systematic propagandistic feature promoting government intrusion on your rights( how interesting that it comes at a moment when IPS providers trying to \"preferentiate\" = CENSOR information, and the Americans and Canadians are fighting AGAINST that at this very moments). this time is not by labeling torrent file transfers as evil ( that one was intended to remind you of such feeling whenever you transfer data on the net), but by literally attempting in creating a sexual frustrated population as a whole. SEEMS LIKE FEAR PROMOTION IS HOLLYWOOD\\'S NORM THIS DAYS, especially when coming to thrillers which is the most \"on demand\" motion picture genre for past 2 decades or so = most viewed, best way to try influence the society as a whole. such levels of violence are depicted in this 2 features of morally and \"ethical\" people, that it gives a new much needed meaning to \"anti-heroes\" figures. make no mistake , this is NOT \"DEXTER\" which was meant to be high-quality entertainment.STOP SELLING \"FEAR\" please, the world would be a better place without it and the dollars made of it.<br /><br />the opening scene and generally the first 10 minutes really give a frightful picture of an Erroll Babbage that is CLEARLLY suffering of sexual frustration. the way he handles the black male is very disturbing if not outright racist(for sure a \"cliche\" at least) ( in real life someone would probably get a beating for it, you will see what i mean). the second scene ( with Claire Danes\\'s character present) is even more extreme. at that point i realized, in my opinion that Erroll Babbage is a very dangerous individual to people around him.how many people, that have seen or will see this movie, have never been \"hold down\"(regarding BOTH sexes) out of self, COMMON gratification!?.typically the movie gives an extreme CRIMINAL case(that unfortunately did, is and will likely happen again sometime , somewhere) BUT fingers everyone else indirectly as well as \"you could become that\", etc. anyone that is familiar with Sigmund Freud and Jung will know very well that sexuality is not something to be judged let alone \"asses\" , by such fanatical \"hero\" here. SAFE sex in its many forms IS healthy and not some evil that apparently Richard Gere character is obsessed with , on his way for some sexual \"crusade\". have we not learned anything from the abundant recent scandals involving priests and young boys!? or for how long an American teenager can see extreme violence on \"pg-13\" but he can not even see a woman breast until \"R-18\"!?!?( yet the industry targets them with this VERY SAME sexual perversions like \"american pie\" series for example).raise the kids tester-one levels but frustrate them and drive them underground in developing fetishes to UNhealthy EXTREMES!? all sexual activities(upon MUTUAL acceptance) integrates individuals better then some \"rightous\" nut-case, THAT blames his misfortunes and shortcomings on \"the lives of others\"( a new German movie that would work great in comparing this 2 distinct and world apart features on the very same subject).here, like in that movie, you will probably appreciate the actors for well portraying the opposite of what they should have been.<br /><br />i am very disappointed with Richard Gere especially after the recent \" hunting party\", a feature where he really shines and about a more realistic \"hero\"( after real facts as well).but then it just reminds me that all those people are only actors that get paid to play someone\\'s political and social agenda. \"the flock\" and \"untraceable\" 2 heads of the same hidden beast)))it just reminds you, if know anyone with similar views on the subject as a WHOLE, as Erroll Babbage has those here, to stay clear of them for THEIR own safety.they would kill my family faster then any 0.00001 chances of Paul Jerrod in anyone\\'s life would...<br /><br />in the end i recommend this to anyone thinking negative here about MY \"assesment\" of this particular movie ( and \"untraceable\" actually), so you can likely have similar thoughts as i did. nothing sweeter then a propagandistic movie shooting itself in the \"foot\".))))for once i agree with the rating, this is not a feature for teenagers or kids; simply because at best would confuse them even more then the \"common\" belief of \"money+fame+fashion\" and how that relates to sexuality. \"scream\" series and movies as such AT LEAST have a defined entertainment value(even if a dumb one in my opinion). but this one is just another \"trust me i know what is good for you\" deeply (not so well done i might add) subliminal messages.',\n",
              "       'If you like films that ramble with little plot exposition spiced with kinky sex, this film is for you. On the plus side the lead actor/actress (newcomer transsexual) does have an interesting screen presence, but not enough to add up to much more than a mildly interesting movie - if that. Essentially this film is about 3 social outcasts (transexual prostitute, male hustler, and Russian,gay immigrant) who somehow have developed a bond. Why is not clear. We are expected to accept these misfits are at the core basic honest people who have the ability to love while they hustle their bodies on the street. Right!! And Anna Nicole Smith was truly in love with her ninety something sugar daddy! The filmmaker shows a gritty, unpleasant side of life while wanting us to believe underneath it all these seriously damaged people are really quite normal to the extent they have a menage a trois which helps them through life. Quite a fantasy, but unfortunately portrayed here as real look of life on the wild side. In sum, no plot, no truth and no real reason to spend much time here. Unless of course you just like to revel in the kink!!!',\n",
              "       \"As interesting as a sheet of cardboard, this dispensable period piece has little going for it. It's overly wordy and fails spectacularly to evoke the tension and fear that the real-life characters must have felt as they dodged the French Revolution's fickle hand of justice. Eric Rohmer at 82? It shows.\"],\n",
              "      dtype=object)"
            ]
          },
          "metadata": {},
          "execution_count": 7
        }
      ]
    },
    {
      "cell_type": "code",
      "source": [
        "label"
      ],
      "metadata": {
        "colab": {
          "base_uri": "https://localhost:8080/"
        },
        "id": "IxE3wnegdpM7",
        "outputId": "d76de147-9a3d-4d26-e591-2809ea0fdb6b"
      },
      "execution_count": 8,
      "outputs": [
        {
          "output_type": "execute_result",
          "data": {
            "text/plain": [
              "array([[1, 0],\n",
              "       [1, 0],\n",
              "       [1, 0],\n",
              "       ...,\n",
              "       [1, 0],\n",
              "       [1, 0],\n",
              "       [1, 0]], dtype=uint8)"
            ]
          },
          "metadata": {},
          "execution_count": 8
        }
      ]
    },
    {
      "cell_type": "code",
      "source": [
        "from sklearn.model_selection import train_test_split\n",
        "\n",
        "text = df['text'].values\n",
        "y = df[['pos','neg']].values\n",
        "text_train , text_test, y_train, y_test = train_test_split(text, y, test_size=0.2)"
      ],
      "metadata": {
        "id": "2TjgY0WtdsdM"
      },
      "execution_count": 9,
      "outputs": []
    },
    {
      "cell_type": "markdown",
      "source": [
        "## Tokenizer\n",
        "Then, I convert every word in our dataset into a numeric number with the Tokenizer function. Once tokenization is complete, I need to make convert each sample into a sequence."
      ],
      "metadata": {
        "id": "wizQEXBYdllX"
      }
    },
    {
      "cell_type": "code",
      "source": [
        "from tensorflow.keras.preprocessing.text import Tokenizer\n",
        "from tensorflow.keras.preprocessing.sequence import pad_sequences"
      ],
      "metadata": {
        "id": "y9Z8F3cNd6KJ"
      },
      "execution_count": 10,
      "outputs": []
    },
    {
      "cell_type": "code",
      "source": [
        "tokenizer = Tokenizer(num_words=280617, oov_token='-')\n",
        "tokenizer.fit_on_texts(text_train)\n",
        "tokenizer.fit_on_texts(text_test)"
      ],
      "metadata": {
        "id": "aNjwzXhPeAjd"
      },
      "execution_count": 11,
      "outputs": []
    },
    {
      "cell_type": "code",
      "source": [
        "seq_train = tokenizer.texts_to_sequences(text_train)\n",
        "seq_test = tokenizer.texts_to_sequences(text_test)"
      ],
      "metadata": {
        "id": "vyf1amh7eGBW"
      },
      "execution_count": 12,
      "outputs": []
    },
    {
      "cell_type": "code",
      "source": [
        "pad_train = pad_sequences(seq_train,\n",
        "                          maxlen=300,\n",
        "                          padding='post',\n",
        "                          truncating='post')\n",
        "\n",
        "pad_test = pad_sequences(seq_test,\n",
        "                         maxlen=300,\n",
        "                         padding='post',\n",
        "                         truncating='post')"
      ],
      "metadata": {
        "id": "GWEqaLwyeJs1"
      },
      "execution_count": 13,
      "outputs": []
    },
    {
      "cell_type": "markdown",
      "source": [
        "## Embedding\n",
        "For the model architecture, I use the Embedding layer with the embedding dimension of 16, and the input dimension of the num_words value in the tokenizer object."
      ],
      "metadata": {
        "id": "Ajyc2UdEeNsO"
      }
    },
    {
      "cell_type": "code",
      "source": [
        "from tensorflow.keras import layers\n",
        "from tensorflow.keras import Sequential\n",
        "\n",
        "model = Sequential([layers.Embedding(280617, 64, input_length=300),\n",
        "                    layers.LSTM(64, dropout=0.1),\n",
        "                    layers.Dense(128, activation='relu'),\n",
        "                    layers.Dense(64, activation='relu'),\n",
        "                    layers.Dense(2, activation='sigmoid')])\n",
        "model.summary()"
      ],
      "metadata": {
        "colab": {
          "base_uri": "https://localhost:8080/"
        },
        "id": "q9qQCLrIeM8b",
        "outputId": "8476f004-638c-4011-d8bb-3ae378f2f89d"
      },
      "execution_count": 14,
      "outputs": [
        {
          "output_type": "stream",
          "name": "stdout",
          "text": [
            "Model: \"sequential\"\n",
            "_________________________________________________________________\n",
            " Layer (type)                Output Shape              Param #   \n",
            "=================================================================\n",
            " embedding (Embedding)       (None, 300, 64)           17959488  \n",
            "                                                                 \n",
            " lstm (LSTM)                 (None, 64)                33024     \n",
            "                                                                 \n",
            " dense (Dense)               (None, 128)               8320      \n",
            "                                                                 \n",
            " dense_1 (Dense)             (None, 64)                8256      \n",
            "                                                                 \n",
            " dense_2 (Dense)             (None, 2)                 130       \n",
            "                                                                 \n",
            "=================================================================\n",
            "Total params: 18,009,218\n",
            "Trainable params: 18,009,218\n",
            "Non-trainable params: 0\n",
            "_________________________________________________________________\n"
          ]
        }
      ]
    },
    {
      "cell_type": "markdown",
      "source": [
        "## Callback\n",
        "Then, I created a callback function, its function is to prevent overfitting and stop training after it's done accumulating."
      ],
      "metadata": {
        "id": "234cn2Qaccw0"
      }
    },
    {
      "cell_type": "code",
      "source": [
        "import tensorflow\n",
        "class myCallback(tensorflow.keras.callbacks.Callback):\n",
        "  def on_epoch_end(self, epoch, logs={}):\n",
        "    if(logs.get('accuracy') > 0.9):\n",
        "      print(\"\\nAccuracy above 90%, Training Stop!\")\n",
        "      self.model.stop_training = True\n",
        "\n",
        "callbacks = myCallback()"
      ],
      "metadata": {
        "id": "-puNh7XAciCx"
      },
      "execution_count": 15,
      "outputs": []
    },
    {
      "cell_type": "markdown",
      "source": [
        "## Training Model\n",
        "Finally, I can start training our model by calling the fit() function."
      ],
      "metadata": {
        "id": "vNxGdWwjfncp"
      }
    },
    {
      "cell_type": "code",
      "source": [
        "model.compile(loss='binary_crossentropy',optimizer='adam',metrics=['accuracy'])\n"
      ],
      "metadata": {
        "id": "ncYdlOxhftg-"
      },
      "execution_count": 16,
      "outputs": []
    },
    {
      "cell_type": "code",
      "source": [
        "history = model.fit(pad_train, y_train,\n",
        "                    batch_size=128,\n",
        "                    epochs=30,\n",
        "                    validation_data=(pad_test, y_test),\n",
        "                    verbose=2,\n",
        "                    callbacks=[callbacks])"
      ],
      "metadata": {
        "colab": {
          "base_uri": "https://localhost:8080/"
        },
        "id": "bGpThBoEfycG",
        "outputId": "6a593595-7642-4e58-bee3-4ebebf2bc759"
      },
      "execution_count": 17,
      "outputs": [
        {
          "output_type": "stream",
          "name": "stdout",
          "text": [
            "Epoch 1/30\n",
            "157/157 - 8s - loss: 0.6925 - accuracy: 0.5075 - val_loss: 0.6790 - val_accuracy: 0.5486 - 8s/epoch - 53ms/step\n",
            "Epoch 2/30\n",
            "157/157 - 4s - loss: 0.6610 - accuracy: 0.5594 - val_loss: 0.6425 - val_accuracy: 0.5918 - 4s/epoch - 28ms/step\n",
            "Epoch 3/30\n",
            "157/157 - 4s - loss: 0.6083 - accuracy: 0.6651 - val_loss: 0.6069 - val_accuracy: 0.6686 - 4s/epoch - 28ms/step\n",
            "Epoch 4/30\n",
            "157/157 - 4s - loss: 0.6124 - accuracy: 0.6400 - val_loss: 0.6938 - val_accuracy: 0.5550 - 4s/epoch - 28ms/step\n",
            "Epoch 5/30\n",
            "157/157 - 4s - loss: 0.6179 - accuracy: 0.6123 - val_loss: 0.6403 - val_accuracy: 0.7364 - 4s/epoch - 28ms/step\n",
            "Epoch 6/30\n",
            "157/157 - 4s - loss: 0.6076 - accuracy: 0.6219 - val_loss: 0.7249 - val_accuracy: 0.5296 - 4s/epoch - 28ms/step\n",
            "Epoch 7/30\n",
            "157/157 - 4s - loss: 0.5750 - accuracy: 0.6059 - val_loss: 0.7682 - val_accuracy: 0.5456 - 4s/epoch - 28ms/step\n",
            "Epoch 8/30\n",
            "157/157 - 4s - loss: 0.5451 - accuracy: 0.6252 - val_loss: 0.7705 - val_accuracy: 0.5382 - 4s/epoch - 28ms/step\n",
            "Epoch 9/30\n",
            "157/157 - 4s - loss: 0.5302 - accuracy: 0.6298 - val_loss: 0.8719 - val_accuracy: 0.5516 - 4s/epoch - 28ms/step\n",
            "Epoch 10/30\n",
            "157/157 - 4s - loss: 0.5250 - accuracy: 0.6351 - val_loss: 0.8833 - val_accuracy: 0.5528 - 4s/epoch - 28ms/step\n",
            "Epoch 11/30\n",
            "157/157 - 4s - loss: 0.5166 - accuracy: 0.6399 - val_loss: 0.9759 - val_accuracy: 0.5854 - 4s/epoch - 28ms/step\n",
            "Epoch 12/30\n",
            "157/157 - 4s - loss: 0.5145 - accuracy: 0.6465 - val_loss: 0.9727 - val_accuracy: 0.5676 - 4s/epoch - 28ms/step\n",
            "Epoch 13/30\n",
            "157/157 - 4s - loss: 0.5141 - accuracy: 0.6640 - val_loss: 0.7945 - val_accuracy: 0.5634 - 4s/epoch - 28ms/step\n",
            "Epoch 14/30\n",
            "157/157 - 5s - loss: 0.5290 - accuracy: 0.6927 - val_loss: 0.6946 - val_accuracy: 0.5128 - 5s/epoch - 30ms/step\n",
            "Epoch 15/30\n",
            "157/157 - 5s - loss: 0.6178 - accuracy: 0.5964 - val_loss: 0.7081 - val_accuracy: 0.5468 - 5s/epoch - 32ms/step\n",
            "Epoch 16/30\n",
            "157/157 - 4s - loss: 0.5923 - accuracy: 0.6474 - val_loss: 0.7147 - val_accuracy: 0.5016 - 4s/epoch - 28ms/step\n",
            "Epoch 17/30\n",
            "157/157 - 4s - loss: 0.6787 - accuracy: 0.5544 - val_loss: 0.6971 - val_accuracy: 0.5042 - 4s/epoch - 28ms/step\n",
            "Epoch 18/30\n",
            "157/157 - 4s - loss: 0.6353 - accuracy: 0.5939 - val_loss: 0.7216 - val_accuracy: 0.5360 - 4s/epoch - 28ms/step\n",
            "Epoch 19/30\n",
            "157/157 - 4s - loss: 0.6058 - accuracy: 0.6363 - val_loss: 0.8438 - val_accuracy: 0.5016 - 4s/epoch - 28ms/step\n",
            "Epoch 20/30\n",
            "157/157 - 4s - loss: 0.6449 - accuracy: 0.5847 - val_loss: 0.6883 - val_accuracy: 0.5516 - 4s/epoch - 28ms/step\n",
            "Epoch 21/30\n",
            "157/157 - 4s - loss: 0.4404 - accuracy: 0.7640 - val_loss: 0.3612 - val_accuracy: 0.8556 - 4s/epoch - 28ms/step\n",
            "Epoch 22/30\n",
            "\n",
            "Accuracy above 90%, Training Stop!\n",
            "157/157 - 4s - loss: 0.1956 - accuracy: 0.9247 - val_loss: 0.3380 - val_accuracy: 0.8646 - 4s/epoch - 28ms/step\n"
          ]
        }
      ]
    },
    {
      "cell_type": "markdown",
      "source": [
        "## Evaluation Model\n",
        "I use the matplotlib library to create a plot model to make it easier to evaluate the model that has been created."
      ],
      "metadata": {
        "id": "ZCdclRTZhlbl"
      }
    },
    {
      "cell_type": "code",
      "source": [
        "import matplotlib.pyplot as plt\n"
      ],
      "metadata": {
        "id": "cbns1gbzhoiU"
      },
      "execution_count": 18,
      "outputs": []
    },
    {
      "cell_type": "code",
      "source": [
        "plt.plot(history.history['accuracy'])\n",
        "plt.plot(history.history['val_accuracy'])\n",
        "\n",
        "plt.title('Model Accuracy')\n",
        "plt.ylabel('Accuracy')\n",
        "plt.xlabel('Epoch')\n",
        "\n",
        "plt.legend(['Train', 'Test'], loc='lower right')\n",
        "plt.show()"
      ],
      "metadata": {
        "colab": {
          "base_uri": "https://localhost:8080/",
          "height": 295
        },
        "id": "MdtwAJVDhsjU",
        "outputId": "b9af8025-0608-4db3-e89d-9071f395e4b6"
      },
      "execution_count": 19,
      "outputs": [
        {
          "output_type": "display_data",
          "data": {
            "text/plain": [
              "<Figure size 432x288 with 1 Axes>"
            ],
            "image/png": "[encoded data removed]"
          },
          "metadata": {
            "needs_background": "light"
          }
        }
      ]
    }
  ]
}